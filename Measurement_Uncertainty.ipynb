{
 "cells": [
  {
   "cell_type": "markdown",
   "metadata": {},
   "source": [
    "Consider now measuring the value of a resistor by passing a current through it and measuring the voltage across it. "
   ]
  },
  {
   "cell_type": "code",
   "execution_count": 9,
   "metadata": {},
   "outputs": [
    {
     "data": {
      "image/png": "[encoded data removed]",
      "text/plain": [
       "<Figure size 432x288 with 1 Axes>"
      ]
     },
     "metadata": {},
     "output_type": "display_data"
    }
   ],
   "source": [
    "import matplotlib.pyplot as plt\n",
    "import uncertainties as unc\n",
    "import numpy as np\n",
    "import math\n",
    "\n",
    "\n",
    "for i in range(1,102,5): \n",
    "    ia = unc.ufloat(i/100, 0.01+i/100*0.05)\n",
    "    ra = unc.ufloat(10,0)\n",
    "    va = ra*ia\n",
    "    verr = unc.ufloat(0, 0.0+va.n*0.01)\n",
    "    rm = (va+verr) / ia\n",
    "    vplot = va+verr\n",
    "    \n",
    "    plt.errorbar(vplot.nominal_value, rm.nominal_value, xerr=vplot.std_dev, yerr=rm.std_dev, fmt='o')\n",
    "\n",
    "\n",
    "plt.xkcd()  # Yes...\n",
    "\n",
    "#plt.scatter(x,y)\n",
    "#plt.errorbar(xa, y, xerr=0, yerr=y.std_dev, fmt='o')\n",
    "#plt.axis([0,100,0,200])\n",
    "plt.xlabel('V [V]')\n",
    "plt.ylabel('R [Ohm]')\n",
    "plt.show()"
   ]
  },
  {
   "cell_type": "code",
   "execution_count": null,
   "metadata": {
    "collapsed": true
   },
   "outputs": [],
   "source": []
  },
  {
   "cell_type": "code",
   "execution_count": null,
   "metadata": {
    "collapsed": true
   },
   "outputs": [],
   "source": []
  },
  {
   "cell_type": "code",
   "execution_count": null,
   "metadata": {
    "collapsed": true
   },
   "outputs": [],
   "source": []
  }
 ],
 "metadata": {
  "kernelspec": {
   "display_name": "Python 3",
   "language": "python",
   "name": "python3"
  },
  "language_info": {
   "codemirror_mode": {
    "name": "ipython",
    "version": 3
   },
   "file_extension": ".py",
   "mimetype": "text/x-python",
   "name": "python",
   "nbconvert_exporter": "python",
   "pygments_lexer": "ipython3",
   "version": "3.6.5"
  }
 },
 "nbformat": 4,
 "nbformat_minor": 2
}
