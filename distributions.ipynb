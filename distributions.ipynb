{
 "cells": [
  {
   "cell_type": "markdown",
   "metadata": {},
   "source": [
    "# Probability Distributions and the Central Limit Theorem"
   ]
  },
  {
   "cell_type": "markdown",
   "metadata": {},
   "source": [
    "Markus Pfeil, Hochschule Ravensburg Weingarten\n",
    "\n",
    "---"
   ]
  },
  {
   "cell_type": "markdown",
   "metadata": {},
   "source": [
    "Here we will visualize, in Python, a few important distributions that commonly appear in science and statistics. A more exhaustive list of statistical distributions can be found in the [stats](http://docs.scipy.org/doc/scipy/reference/stats.html) module of SciPy. \n",
    "\n",
    "At the end of this IPython Notebook we will demonstrate what is arguably the most famous and profound theorem in statistics: the Central Limit Theorem."
   ]
  },
  {
   "cell_type": "code",
   "execution_count": 16,
   "metadata": {},
   "outputs": [],
   "source": [
    "from __future__ import division\n",
    "\n",
    "import numpy as np\n",
    "import scipy.stats as stats\n",
    "import matplotlib.pyplot as plt\n",
    "from ipywidgets import interact, interactive, fixed, interact_manual\n",
    "import ipywidgets as widgets\n",
    "from IPython.display import display"
   ]
  },
  {
   "cell_type": "markdown",
   "metadata": {},
   "source": [
    "## Discrete Distributions"
   ]
  },
  {
   "cell_type": "markdown",
   "metadata": {},
   "source": [
    "$\\mathbf{Uniform}$:The probability of observing each value with the same probability.\n",
    "\n",
    "* Example: Measurement with white noise"
   ]
  },
  {
   "cell_type": "code",
   "execution_count": 21,
   "metadata": {},
   "outputs": [
    {
     "data": {
      "application/vnd.jupyter.widget-view+json": {
       "model_id": "3b5967d9e2194e4c8a88998b190139e5",
       "version_major": 2,
       "version_minor": 0
      },
      "text/plain": [
       "interactive(children=(FloatSlider(value=5.0, description='mean', max=10.0), FloatSlider(value=5.0, description…"
      ]
     },
     "metadata": {},
     "output_type": "display_data"
    },
    {
     "data": {
      "text/plain": [
       "<function __main__.func(mean, var, size)>"
      ]
     },
     "metadata": {},
     "output_type": "display_data"
    }
   ],
   "source": [
    "def func(mean,var, size): \n",
    "    s = var*stats.uniform.rvs(size)+mean\n",
    "    fig, ax = plt.subplots(1, 1)\n",
    "    ax.hist(s, density=True, histtype='stepfilled', alpha=0.2)\n",
    "    ax.legend(loc='best', frameon=False)\n",
    "    plt.show()\n",
    "    \n",
    "interactive_plot = interact_manual(func, mean=(0.0,10.0), var=(0.0,10.0), size=(10,1000,10))\n",
    "display(interactive_plot)"
   ]
  },
  {
   "cell_type": "markdown",
   "metadata": {},
   "source": [
    "## Continuous Distributions"
   ]
  },
  {
   "cell_type": "markdown",
   "metadata": {},
   "source": [
    "$\\mathbf{GAUSSIAN (NORMAL)}$:\n",
    "$P(x;\\mu,\\sigma)=\\displaystyle \\frac{1}{\\sqrt{2 \\pi \\sigma^2}} \\exp{\\displaystyle \\left( -\\frac{(x-\\mu)^2}{2 \\sigma^2} \\right) },\n",
    "\\hspace{1in} x \\in [-\\infty;\\infty]$\n",
    "\n",
    "* mean=$\\mu$, variance=$\\sigma^2$\n",
    "* This distribution appears as the large N limit of the binomial distribution and the Central Limit Theorem."
   ]
  },
  {
   "cell_type": "code",
   "execution_count": null,
   "metadata": {},
   "outputs": [],
   "source": [
    "u=5 # mean\n",
    "s=1 # standard deviation\n",
    "x=np.arange(0,15,0.1)\n",
    "y=(1/(np.sqrt(2*np.pi*s*s)))*exp(-(((x-u)**2)/(2*s*s)))\n",
    "plt.plot(x,y,'-')\n",
    "plt.title('Gaussian: $\\mu$=%.1f, $\\sigma$=%.1f' % (u,s),fontsize=15)\n",
    "plt.xlabel('x',fontsize=15)\n",
    "plt.ylabel('Probability density',fontsize=15)\n",
    "plt.show()"
   ]
  },
  {
   "cell_type": "markdown",
   "metadata": {},
   "source": [
    "$\\mathbf{EXPONENTIAL}$:\n",
    "$P(x;k)=k e^{-kx}, \\hspace{1in} x \\in [0,\\infty], \\hspace{0.1in} k>0$\n",
    "\n",
    "* mean=$1/k$,  variance=$1/k^2$\n",
    "* This distribution describes the time intervals in a homogeneous Poisson process."
   ]
  },
  {
   "cell_type": "code",
   "execution_count": null,
   "metadata": {},
   "outputs": [],
   "source": [
    "k=0.4\n",
    "x=np.arange(0,15,0.1)\n",
    "y=k*exp(-k*x)\n",
    "plt.plot(x,y,'-')\n",
    "plt.title('Exponential: $k$ =%.2f' % k,fontsize=15)\n",
    "plt.xlabel('x',fontsize=15)\n",
    "plt.ylabel('Probability density',fontsize=15)\n",
    "plt.show()"
   ]
  },
  {
   "cell_type": "markdown",
   "metadata": {},
   "source": [
    "## Central Limit Theorem"
   ]
  },
  {
   "cell_type": "markdown",
   "metadata": {},
   "source": [
    "> Take the mean of $n$ random samples from ANY arbitrary distribution with a well defined standard deviation $\\sigma$ and mean $\\mu$. As $n$ gets bigger the distribution of the sample mean will always converge to a Gaussian (normal) distribution with mean $\\mu$ and standard deviation $\\sigma/\\sqrt{n}$.\n",
    "\n",
    "Colloquially speaking, the theorem states that the average (or sum) of a set of random measurements will tend to a bell-shaped curve no matter the shape of the original meaurement distribution. This explains the ubiquity of the Gaussian distribution in science and statistics. We can demonstrate the Central Limit Thereom in Python by sampling from three different distributions: flat, exponential, and beta."
   ]
  },
  {
   "cell_type": "code",
   "execution_count": null,
   "metadata": {},
   "outputs": [],
   "source": [
    "from functools import partial # provides capability to define function with partial arguments\n",
    "\n",
    "N=1000000 # number of times n samples are taken. Try varying this number.\n",
    "nobb=101 # number of bin boundaries on plots\n",
    "n=np.array([1,2,3,5,10,100]) # number of samples to average over\n",
    "\n",
    "exp_mean=3 # mean of exponential distribution\n",
    "a,b=0.7,0.5 # parameters of uniform distribution\n",
    "\n",
    "dist=[partial(np.random.random),partial(np.random.exponential,exp_mean),partial(np.random.uniform,a,b)]\n",
    "title_names=[\"Flat\", \"Exponential (mean=%.1f)\" % exp_mean, \"Uniform (a=%.1f, b=%.1f)\" % (a,b)]\n",
    "drange=np.array([[0,1],[0,10],[0,1]]) # ranges of distributions\n",
    "means=np.array([0.5,exp_mean,(a+b)/2]) # means of distributions\n",
    "var=np.array([1/12,exp_mean**2,1/12*(b-a)*(b-a)]) # variances of distributions\n",
    "\n",
    "binrange=np.array([np.linspace(p,q,nobb) for p,q in drange])\n",
    "ln,ld=len(n),len(dist)\n",
    "plt.figure(figsize=((ld*4)+1,(ln*2)+1))\n",
    "\n",
    "for i in range(ln): # loop over number of n samples to average over\n",
    "    for j in range(ld): # loop over the different distributions\n",
    "        plt.subplot(ln,ld,i*ld+1+j)\n",
    "        plt.hist(np.mean(dist[j]((N,n[i])),1),binrange[j],normed=True)\n",
    "        plt.xlim(drange[j])\n",
    "        if j==0:\n",
    "            plt.ylabel('n=%i' % n[i],fontsize=15)        \n",
    "        if i==0:\n",
    "            plt.title(title_names[j], fontsize=15)\n",
    "        else:\n",
    "            clt=(1/(np.sqrt(2*np.pi*var[j]/n[i])))*np.exp(-(((binrange[j]-means[j])**2)*n[i]/(2*var[j])))\n",
    "            plt.plot(binrange[j],clt,'r',linewidth=2)     \n",
    "plt.show()"
   ]
  },
  {
   "cell_type": "markdown",
   "metadata": {},
   "source": [
    "In the graphs above the red curve is the predicted Gaussian distribution from the Central Limit Thereom. Notice that the rate of convergence of the sample mean to the Gaussian depends on the original parent distribution. Also, \n",
    "\n",
    "- the mean of the Gaussian distribution is the same as the original parent distribution,\n",
    "- the width of the Gaussian distribution scales as $1/\\sqrt{n}$."
   ]
  }
 ],
 "metadata": {
  "kernelspec": {
   "display_name": "Python 3",
   "language": "python",
   "name": "python3"
  },
  "language_info": {
   "codemirror_mode": {
    "name": "ipython",
    "version": 3
   },
   "file_extension": ".py",
   "mimetype": "text/x-python",
   "name": "python",
   "nbconvert_exporter": "python",
   "pygments_lexer": "ipython3",
   "version": "3.6.5"
  }
 },
 "nbformat": 4,
 "nbformat_minor": 1
}
